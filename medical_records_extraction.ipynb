{
  "cells": [
    {
      "cell_type": "markdown",
      "metadata": {
        "id": "cASFoUuFGrzw"
      },
      "source": [
        "## Problem Statement:"
      ]
    },
    {
      "cell_type": "markdown",
      "metadata": {
        "id": "l48p-8IOGrz2"
      },
      "source": [
        "Medical decisioning depends on medical history of a patient. Doctors typically use past patient records from multiple visits collected through lab tests, procedures and patient diagnoses records to determine the right treatment. The medical history and patient demographics can be used to identify and analyse patterns that groups patients into cohorts.\n",
        "\n",
        "The cohorts formed vary in terms of diseases, test results and patient data. Electronic Health Records are a systematic way to collect huge amounts of digital health information from multiple sources. Accessing this data and using it to create the cohorts presents initial analysis and proper medical path to be followed for any patient dependingon the results from similar patients belonging to the same cohort.\n",
        "\n",
        "The problem is clearly identified as an unsupervised machine learning problem and I will use relevant algorithms to distinguish various cohorts based on their differences. Furthermore, this analysis can be used for drug analysis, identifying disease progression and much more.\n"
      ]
    },
    {
      "cell_type": "markdown",
      "metadata": {
        "id": "8BLSk66tGrz5"
      },
      "source": [
        "## Import Libraries"
      ]
    },
    {
      "cell_type": "code",
      "execution_count": 2,
      "metadata": {
        "id": "HApHlWFuGrz6",
        "outputId": "a698a610-eec0-43a6-fca8-e52a5c6dc09f",
        "colab": {
          "base_uri": "https://localhost:8080/"
        }
      },
      "outputs": [
        {
          "output_type": "stream",
          "name": "stdout",
          "text": [
            "Archive:  SOMperf.zip\n",
            "replace SOMperf/.git/config? [y]es, [n]o, [A]ll, [N]one, [r]ename: Traceback (most recent call last):\n",
            "  File \"SOMperf/setup.py\", line 3, in <module>\n",
            "    with open('requirements.txt') as fp:\n",
            "FileNotFoundError: [Errno 2] No such file or directory: 'requirements.txt'\n",
            "Collecting MiniSom\n",
            "  Downloading MiniSom-2.2.9.tar.gz (8.1 kB)\n",
            "Building wheels for collected packages: MiniSom\n",
            "  Building wheel for MiniSom (setup.py) ... \u001b[?25l\u001b[?25hdone\n",
            "  Created wheel for MiniSom: filename=MiniSom-2.2.9-py3-none-any.whl size=8594 sha256=82b00304facd915566a6703dcb9863645a6c613f90602de2e6297d8072373e78\n",
            "  Stored in directory: /root/.cache/pip/wheels/3d/a1/10/f50b6f4865652eac239a2700de411c3078c27e1318320e494c\n",
            "Successfully built MiniSom\n",
            "Installing collected packages: MiniSom\n",
            "Successfully installed MiniSom-2.2.9\n"
          ]
        }
      ],
      "source": [
        "!unzip SOMperf.zip\n",
        "!python SOMperf/setup.py install\n",
        "!pip install MiniSom\n",
        "# in-built libraries\n",
        "import json\n",
        "import pickle\n",
        "import pandas as pd\n",
        "import numpy as np\n",
        "from matplotlib import pyplot as plt\n",
        "from datetime import datetime\n",
        "import matplotlib.dates as mdates\n",
        "from datetime import date\n",
        "import math\n",
        "from sklearn import metrics\n",
        "from sklearn.cluster import DBSCAN\n",
        "from sklearn.decomposition import PCA\n",
        "# external libraries\n",
        "# pip install -r requirements.txt\n",
        "from minisom import MiniSom\n",
        "# downloaded from https://github.com/FlorentF9/SOMperf.git\n",
        "from SOMperf.somperf.metrics import *\n",
        "from SOMperf.somperf.utils.topology import rectangular_topology_dist"
      ]
    },
    {
      "cell_type": "markdown",
      "metadata": {
        "id": "-YmywKYCGr0A"
      },
      "source": [
        "## Import Data"
      ]
    },
    {
      "cell_type": "code",
      "execution_count": 3,
      "metadata": {
        "id": "vOHyKd6vGr0A",
        "outputId": "eaa9c66f-5fd1-4800-8a93-c000341f68b4",
        "colab": {
          "base_uri": "https://localhost:8080/",
          "height": 206
        }
      },
      "outputs": [
        {
          "output_type": "execute_result",
          "data": {
            "text/html": [
              "<div>\n",
              "<style scoped>\n",
              "    .dataframe tbody tr th:only-of-type {\n",
              "        vertical-align: middle;\n",
              "    }\n",
              "\n",
              "    .dataframe tbody tr th {\n",
              "        vertical-align: top;\n",
              "    }\n",
              "\n",
              "    .dataframe thead th {\n",
              "        text-align: right;\n",
              "    }\n",
              "</style>\n",
              "<table border=\"1\" class=\"dataframe\">\n",
              "  <thead>\n",
              "    <tr style=\"text-align: right;\">\n",
              "      <th></th>\n",
              "      <th>PatientID</th>\n",
              "      <th>PatientGender</th>\n",
              "      <th>PatientDateOfBirth</th>\n",
              "      <th>PatientRace</th>\n",
              "      <th>PatientMaritalStatus</th>\n",
              "      <th>PatientLanguage</th>\n",
              "      <th>PatientPopulationPercentageBelowPoverty</th>\n",
              "    </tr>\n",
              "  </thead>\n",
              "  <tbody>\n",
              "    <tr>\n",
              "      <th>0</th>\n",
              "      <td>FB2ABB23-C9D0-4D09-8464-49BF0B982F0F</td>\n",
              "      <td>Male</td>\n",
              "      <td>1947-12-28 02:45:40.547</td>\n",
              "      <td>Unknown</td>\n",
              "      <td>Married</td>\n",
              "      <td>Icelandic</td>\n",
              "      <td>18.08</td>\n",
              "    </tr>\n",
              "    <tr>\n",
              "      <th>1</th>\n",
              "      <td>64182B95-EB72-4E2B-BE77-8050B71498CE</td>\n",
              "      <td>Male</td>\n",
              "      <td>1952-01-18 19:51:12.917</td>\n",
              "      <td>African American</td>\n",
              "      <td>Separated</td>\n",
              "      <td>English</td>\n",
              "      <td>13.03</td>\n",
              "    </tr>\n",
              "    <tr>\n",
              "      <th>2</th>\n",
              "      <td>DB22A4D9-7E4D-485C-916A-9CD1386507FB</td>\n",
              "      <td>Female</td>\n",
              "      <td>1970-07-25 13:04:20.717</td>\n",
              "      <td>Asian</td>\n",
              "      <td>Married</td>\n",
              "      <td>English</td>\n",
              "      <td>6.67</td>\n",
              "    </tr>\n",
              "    <tr>\n",
              "      <th>3</th>\n",
              "      <td>6E70D84D-C75F-477C-BC37-9177C3698C66</td>\n",
              "      <td>Male</td>\n",
              "      <td>1979-01-04 05:45:29.580</td>\n",
              "      <td>White</td>\n",
              "      <td>Married</td>\n",
              "      <td>English</td>\n",
              "      <td>16.09</td>\n",
              "    </tr>\n",
              "    <tr>\n",
              "      <th>4</th>\n",
              "      <td>C8556CC0-32FC-4CA5-A8CD-9CCF38816167</td>\n",
              "      <td>Female</td>\n",
              "      <td>1921-04-11 11:39:49.197</td>\n",
              "      <td>White</td>\n",
              "      <td>Married</td>\n",
              "      <td>English</td>\n",
              "      <td>18.20</td>\n",
              "    </tr>\n",
              "  </tbody>\n",
              "</table>\n",
              "</div>"
            ],
            "text/plain": [
              "                              PatientID  ... PatientPopulationPercentageBelowPoverty\n",
              "0  FB2ABB23-C9D0-4D09-8464-49BF0B982F0F  ...                                   18.08\n",
              "1  64182B95-EB72-4E2B-BE77-8050B71498CE  ...                                   13.03\n",
              "2  DB22A4D9-7E4D-485C-916A-9CD1386507FB  ...                                    6.67\n",
              "3  6E70D84D-C75F-477C-BC37-9177C3698C66  ...                                   16.09\n",
              "4  C8556CC0-32FC-4CA5-A8CD-9CCF38816167  ...                                   18.20\n",
              "\n",
              "[5 rows x 7 columns]"
            ]
          },
          "metadata": {},
          "execution_count": 3
        }
      ],
      "source": [
        "# There are 4 different text files each with data separated by tab space which we will import into individual datasets\n",
        "admissions_df = pd.read_csv(\"AdmissionsCorePopulatedTable.txt\", sep=\"\\t\")\n",
        "diagnoses_df = pd.read_csv(\"AdmissionsDiagnosesCorePopulatedTable.txt\", sep=\"\\t\")\n",
        "labs_df = pd.read_csv(\"LabsCorePopulatedTable.txt\", sep=\"\\t\")\n",
        "patient_df = pd.read_csv(\"PatientCorePopulatedTable.txt\", sep=\"\\t\")\n",
        "patient_df.head()"
      ]
    },
    {
      "cell_type": "code",
      "execution_count": 4,
      "metadata": {
        "id": "BD8iyHPeGr0B",
        "outputId": "8dc77048-33f2-46fa-ee66-7c7e8e97efc4",
        "colab": {
          "base_uri": "https://localhost:8080/",
          "height": 206
        }
      },
      "outputs": [
        {
          "output_type": "execute_result",
          "data": {
            "text/html": [
              "<div>\n",
              "<style scoped>\n",
              "    .dataframe tbody tr th:only-of-type {\n",
              "        vertical-align: middle;\n",
              "    }\n",
              "\n",
              "    .dataframe tbody tr th {\n",
              "        vertical-align: top;\n",
              "    }\n",
              "\n",
              "    .dataframe thead th {\n",
              "        text-align: right;\n",
              "    }\n",
              "</style>\n",
              "<table border=\"1\" class=\"dataframe\">\n",
              "  <thead>\n",
              "    <tr style=\"text-align: right;\">\n",
              "      <th></th>\n",
              "      <th>PatientID</th>\n",
              "      <th>AdmissionID</th>\n",
              "      <th>AdmissionStartDate</th>\n",
              "      <th>AdmissionEndDate</th>\n",
              "    </tr>\n",
              "  </thead>\n",
              "  <tbody>\n",
              "    <tr>\n",
              "      <th>0</th>\n",
              "      <td>7A025E77-7832-4F53-B9A7-09A3F98AC17E</td>\n",
              "      <td>7</td>\n",
              "      <td>2011-10-12 14:55:02.027</td>\n",
              "      <td>2011-10-22 01:16:07.557</td>\n",
              "    </tr>\n",
              "    <tr>\n",
              "      <th>1</th>\n",
              "      <td>DCE5AEB8-6DB9-4106-8AE4-02CCC5C23741</td>\n",
              "      <td>1</td>\n",
              "      <td>1993-02-11 18:57:04.003</td>\n",
              "      <td>1993-02-24 17:22:29.713</td>\n",
              "    </tr>\n",
              "    <tr>\n",
              "      <th>2</th>\n",
              "      <td>DCE5AEB8-6DB9-4106-8AE4-02CCC5C23741</td>\n",
              "      <td>2</td>\n",
              "      <td>2002-11-28 19:06:31.117</td>\n",
              "      <td>2002-12-04 19:14:40.797</td>\n",
              "    </tr>\n",
              "    <tr>\n",
              "      <th>3</th>\n",
              "      <td>DCE5AEB8-6DB9-4106-8AE4-02CCC5C23741</td>\n",
              "      <td>3</td>\n",
              "      <td>2011-07-19 18:42:45.287</td>\n",
              "      <td>2011-07-25 04:57:42.053</td>\n",
              "    </tr>\n",
              "    <tr>\n",
              "      <th>4</th>\n",
              "      <td>886B5885-1EE2-49F3-98D5-A2F02EB8A9D4</td>\n",
              "      <td>1</td>\n",
              "      <td>1994-12-03 22:20:46.077</td>\n",
              "      <td>1994-12-20 20:24:56.010</td>\n",
              "    </tr>\n",
              "  </tbody>\n",
              "</table>\n",
              "</div>"
            ],
            "text/plain": [
              "                              PatientID  ...         AdmissionEndDate\n",
              "0  7A025E77-7832-4F53-B9A7-09A3F98AC17E  ...  2011-10-22 01:16:07.557\n",
              "1  DCE5AEB8-6DB9-4106-8AE4-02CCC5C23741  ...  1993-02-24 17:22:29.713\n",
              "2  DCE5AEB8-6DB9-4106-8AE4-02CCC5C23741  ...  2002-12-04 19:14:40.797\n",
              "3  DCE5AEB8-6DB9-4106-8AE4-02CCC5C23741  ...  2011-07-25 04:57:42.053\n",
              "4  886B5885-1EE2-49F3-98D5-A2F02EB8A9D4  ...  1994-12-20 20:24:56.010\n",
              "\n",
              "[5 rows x 4 columns]"
            ]
          },
          "metadata": {},
          "execution_count": 4
        }
      ],
      "source": [
        "admissions_df.head()"
      ]
    },
    {
      "cell_type": "code",
      "execution_count": 5,
      "metadata": {
        "id": "SneWXeOGGr0C",
        "outputId": "c9660f25-3978-437b-f2df-52c9474c7407",
        "colab": {
          "base_uri": "https://localhost:8080/",
          "height": 206
        }
      },
      "outputs": [
        {
          "output_type": "execute_result",
          "data": {
            "text/html": [
              "<div>\n",
              "<style scoped>\n",
              "    .dataframe tbody tr th:only-of-type {\n",
              "        vertical-align: middle;\n",
              "    }\n",
              "\n",
              "    .dataframe tbody tr th {\n",
              "        vertical-align: top;\n",
              "    }\n",
              "\n",
              "    .dataframe thead th {\n",
              "        text-align: right;\n",
              "    }\n",
              "</style>\n",
              "<table border=\"1\" class=\"dataframe\">\n",
              "  <thead>\n",
              "    <tr style=\"text-align: right;\">\n",
              "      <th></th>\n",
              "      <th>PatientID</th>\n",
              "      <th>AdmissionID</th>\n",
              "      <th>PrimaryDiagnosisCode</th>\n",
              "      <th>PrimaryDiagnosisDescription</th>\n",
              "    </tr>\n",
              "  </thead>\n",
              "  <tbody>\n",
              "    <tr>\n",
              "      <th>0</th>\n",
              "      <td>80AC01B2-BD55-4BE0-A59A-4024104CF4E9</td>\n",
              "      <td>2</td>\n",
              "      <td>M01.X</td>\n",
              "      <td>Direct infection of joint in infectious and pa...</td>\n",
              "    </tr>\n",
              "    <tr>\n",
              "      <th>1</th>\n",
              "      <td>80AC01B2-BD55-4BE0-A59A-4024104CF4E9</td>\n",
              "      <td>3</td>\n",
              "      <td>D65</td>\n",
              "      <td>Disseminated intravascular coagulation [defibr...</td>\n",
              "    </tr>\n",
              "    <tr>\n",
              "      <th>2</th>\n",
              "      <td>80AC01B2-BD55-4BE0-A59A-4024104CF4E9</td>\n",
              "      <td>4</td>\n",
              "      <td>C92.1</td>\n",
              "      <td>Chronic myeloid leukemia, BCR/ABL-positive</td>\n",
              "    </tr>\n",
              "    <tr>\n",
              "      <th>3</th>\n",
              "      <td>80AC01B2-BD55-4BE0-A59A-4024104CF4E9</td>\n",
              "      <td>5</td>\n",
              "      <td>M05.51</td>\n",
              "      <td>Rheumatoid polyneuropathy with rheumatoid arth...</td>\n",
              "    </tr>\n",
              "    <tr>\n",
              "      <th>4</th>\n",
              "      <td>6A57AC0C-57F3-4C19-98A1-51135EFBC4FF</td>\n",
              "      <td>1</td>\n",
              "      <td>C91.00</td>\n",
              "      <td>Acute lymphoblastic leukemia not having achiev...</td>\n",
              "    </tr>\n",
              "  </tbody>\n",
              "</table>\n",
              "</div>"
            ],
            "text/plain": [
              "                              PatientID  ...                        PrimaryDiagnosisDescription\n",
              "0  80AC01B2-BD55-4BE0-A59A-4024104CF4E9  ...  Direct infection of joint in infectious and pa...\n",
              "1  80AC01B2-BD55-4BE0-A59A-4024104CF4E9  ...  Disseminated intravascular coagulation [defibr...\n",
              "2  80AC01B2-BD55-4BE0-A59A-4024104CF4E9  ...         Chronic myeloid leukemia, BCR/ABL-positive\n",
              "3  80AC01B2-BD55-4BE0-A59A-4024104CF4E9  ...  Rheumatoid polyneuropathy with rheumatoid arth...\n",
              "4  6A57AC0C-57F3-4C19-98A1-51135EFBC4FF  ...  Acute lymphoblastic leukemia not having achiev...\n",
              "\n",
              "[5 rows x 4 columns]"
            ]
          },
          "metadata": {},
          "execution_count": 5
        }
      ],
      "source": [
        "diagnoses_df.head()"
      ]
    },
    {
      "cell_type": "markdown",
      "metadata": {
        "id": "Uc9-ZSmxGr0C"
      },
      "source": [
        "## Data Cleaning"
      ]
    },
    {
      "cell_type": "code",
      "execution_count": 6,
      "metadata": {
        "id": "K4vJs_-YGr0D"
      },
      "outputs": [],
      "source": [
        "# Function to calculate age compared to todays date\n",
        "def calculate_age(birth_date):\n",
        "        today = date.today()\n",
        "        age = today.year - birth_date.year\n",
        "        full_year_passed = (today.month, today.day) < (birth_date.month, birth_date.day)\n",
        "        if not full_year_passed:\n",
        "            age -= 1\n",
        "        return age"
      ]
    },
    {
      "cell_type": "code",
      "execution_count": 7,
      "metadata": {
        "id": "vfCmroIFGr0D"
      },
      "outputs": [],
      "source": [
        "# Adding the age column to the dataset\n",
        "myFmt = mdates.DateFormatter('%d')\n",
        "patient_df[\"PatientDateOfBirth\"] = patient_df[\"PatientDateOfBirth\"].apply(lambda x: datetime.strptime(x, '%Y-%m-%d %H:%M:%S.%f'))\n",
        "patient_df[\"Age\"] = patient_df[\"PatientDateOfBirth\"].apply(calculate_age)"
      ]
    },
    {
      "cell_type": "markdown",
      "metadata": {
        "id": "ULShR3_2Gr0E"
      },
      "source": [
        "Converting AdmissionStartDate and AdmissionEndDate into datetime64 format to calculate the number of hours spent in admission"
      ]
    },
    {
      "cell_type": "code",
      "execution_count": 8,
      "metadata": {
        "id": "vUzrtXtiGr0F"
      },
      "outputs": [],
      "source": [
        "admissions_df[\"AdmissionStartDate\"] = admissions_df[\"AdmissionStartDate\"].apply(lambda x: datetime.strptime(x, '%Y-%m-%d %H:%M:%S.%f'))\n",
        "admissions_df[\"AdmissionEndDate\"] = admissions_df[\"AdmissionEndDate\"].apply(lambda x: datetime.strptime(x, '%Y-%m-%d %H:%M:%S.%f'))"
      ]
    },
    {
      "cell_type": "code",
      "execution_count": 9,
      "metadata": {
        "id": "IzIhTrFcGr0F",
        "outputId": "696ae4bf-b7ca-4df1-d7c1-e2bb50769d80",
        "colab": {
          "base_uri": "https://localhost:8080/"
        }
      },
      "outputs": [
        {
          "output_type": "execute_result",
          "data": {
            "text/plain": [
              "PatientID                     object\n",
              "AdmissionID                    int64\n",
              "AdmissionStartDate    datetime64[ns]\n",
              "AdmissionEndDate      datetime64[ns]\n",
              "dtype: object"
            ]
          },
          "metadata": {},
          "execution_count": 9
        }
      ],
      "source": [
        "admissions_df.dtypes"
      ]
    },
    {
      "cell_type": "code",
      "execution_count": 10,
      "metadata": {
        "id": "O9LO_AxOGr0G"
      },
      "outputs": [],
      "source": [
        "admissions_df[\"num_hours\"] = (admissions_df.AdmissionEndDate-admissions_df.AdmissionStartDate).astype('timedelta64[h]')"
      ]
    },
    {
      "cell_type": "code",
      "execution_count": 11,
      "metadata": {
        "id": "ziQfc8vIGr0G",
        "outputId": "a45aae03-d270-4110-cdcc-4ee02df01170",
        "colab": {
          "base_uri": "https://localhost:8080/",
          "height": 206
        }
      },
      "outputs": [
        {
          "output_type": "execute_result",
          "data": {
            "text/html": [
              "<div>\n",
              "<style scoped>\n",
              "    .dataframe tbody tr th:only-of-type {\n",
              "        vertical-align: middle;\n",
              "    }\n",
              "\n",
              "    .dataframe tbody tr th {\n",
              "        vertical-align: top;\n",
              "    }\n",
              "\n",
              "    .dataframe thead th {\n",
              "        text-align: right;\n",
              "    }\n",
              "</style>\n",
              "<table border=\"1\" class=\"dataframe\">\n",
              "  <thead>\n",
              "    <tr style=\"text-align: right;\">\n",
              "      <th></th>\n",
              "      <th>PatientID</th>\n",
              "      <th>AdmissionID</th>\n",
              "      <th>AdmissionStartDate</th>\n",
              "      <th>AdmissionEndDate</th>\n",
              "      <th>num_hours</th>\n",
              "    </tr>\n",
              "  </thead>\n",
              "  <tbody>\n",
              "    <tr>\n",
              "      <th>0</th>\n",
              "      <td>7A025E77-7832-4F53-B9A7-09A3F98AC17E</td>\n",
              "      <td>7</td>\n",
              "      <td>2011-10-12 14:55:02.027</td>\n",
              "      <td>2011-10-22 01:16:07.557</td>\n",
              "      <td>226.0</td>\n",
              "    </tr>\n",
              "    <tr>\n",
              "      <th>1</th>\n",
              "      <td>DCE5AEB8-6DB9-4106-8AE4-02CCC5C23741</td>\n",
              "      <td>1</td>\n",
              "      <td>1993-02-11 18:57:04.003</td>\n",
              "      <td>1993-02-24 17:22:29.713</td>\n",
              "      <td>310.0</td>\n",
              "    </tr>\n",
              "    <tr>\n",
              "      <th>2</th>\n",
              "      <td>DCE5AEB8-6DB9-4106-8AE4-02CCC5C23741</td>\n",
              "      <td>2</td>\n",
              "      <td>2002-11-28 19:06:31.117</td>\n",
              "      <td>2002-12-04 19:14:40.797</td>\n",
              "      <td>144.0</td>\n",
              "    </tr>\n",
              "    <tr>\n",
              "      <th>3</th>\n",
              "      <td>DCE5AEB8-6DB9-4106-8AE4-02CCC5C23741</td>\n",
              "      <td>3</td>\n",
              "      <td>2011-07-19 18:42:45.287</td>\n",
              "      <td>2011-07-25 04:57:42.053</td>\n",
              "      <td>130.0</td>\n",
              "    </tr>\n",
              "    <tr>\n",
              "      <th>4</th>\n",
              "      <td>886B5885-1EE2-49F3-98D5-A2F02EB8A9D4</td>\n",
              "      <td>1</td>\n",
              "      <td>1994-12-03 22:20:46.077</td>\n",
              "      <td>1994-12-20 20:24:56.010</td>\n",
              "      <td>406.0</td>\n",
              "    </tr>\n",
              "  </tbody>\n",
              "</table>\n",
              "</div>"
            ],
            "text/plain": [
              "                              PatientID  ...  num_hours\n",
              "0  7A025E77-7832-4F53-B9A7-09A3F98AC17E  ...      226.0\n",
              "1  DCE5AEB8-6DB9-4106-8AE4-02CCC5C23741  ...      310.0\n",
              "2  DCE5AEB8-6DB9-4106-8AE4-02CCC5C23741  ...      144.0\n",
              "3  DCE5AEB8-6DB9-4106-8AE4-02CCC5C23741  ...      130.0\n",
              "4  886B5885-1EE2-49F3-98D5-A2F02EB8A9D4  ...      406.0\n",
              "\n",
              "[5 rows x 5 columns]"
            ]
          },
          "metadata": {},
          "execution_count": 11
        }
      ],
      "source": [
        "admissions_df.head()"
      ]
    },
    {
      "cell_type": "markdown",
      "metadata": {
        "id": "IPyo21DRGr0H"
      },
      "source": [
        "## Visualization and Analysis"
      ]
    },
    {
      "cell_type": "markdown",
      "metadata": {
        "id": "p8TnWrMOGr0I"
      },
      "source": [
        "### Patient Data Distribution"
      ]
    },
    {
      "cell_type": "code",
      "execution_count": 12,
      "metadata": {
        "id": "zoxeNWkmGr0I",
        "outputId": "cbabf846-2a5c-45bf-d7ec-61f1be5a7855",
        "colab": {
          "base_uri": "https://localhost:8080/",
          "height": 337
        }
      },
      "outputs": [
        {
          "output_type": "execute_result",
          "data": {
            "text/plain": [
              "<BarContainer object of 4 artists>"
            ]
          },
          "metadata": {},
          "execution_count": 12
        },
        {
          "output_type": "display_data",
          "data": {
            "image/png": "[encoded data removed]",
            "text/plain": [
              "<Figure size 1080x360 with 4 Axes>"
            ]
          },
          "metadata": {
            "needs_background": "light"
          }
        }
      ],
      "source": [
        "f, ((ax1, ax2), (ax3, ax4)) = plt.subplots(2, 2, figsize=(15,5))\n",
        "patient_grouped_df = patient_df.groupby('PatientGender')['PatientID'].nunique().reset_index()\n",
        "ax1.bar(patient_grouped_df[\"PatientGender\"],patient_grouped_df[\"PatientID\"])\n",
        "patient_grouped_df = patient_df.groupby('PatientRace')['PatientID'].nunique().reset_index()\n",
        "ax2.bar(patient_grouped_df[\"PatientRace\"],patient_grouped_df[\"PatientID\"])\n",
        "patient_grouped_df = patient_df.groupby('PatientMaritalStatus')['PatientID'].nunique().reset_index()\n",
        "ax3.bar(patient_grouped_df[\"PatientMaritalStatus\"],patient_grouped_df[\"PatientID\"])\n",
        "patient_grouped_df = patient_df.groupby('PatientLanguage')['PatientID'].nunique().reset_index()\n",
        "ax4.bar(patient_grouped_df[\"PatientLanguage\"],patient_grouped_df[\"PatientID\"])"
      ]
    },
    {
      "cell_type": "markdown",
      "metadata": {
        "id": "wZkaOBrQGr0J"
      },
      "source": [
        "The graphs show distribution of categories across the patients. The goal is to understand why some groups are favoured compared to others"
      ]
    },
    {
      "cell_type": "markdown",
      "metadata": {
        "id": "TjNMkwtoGr0J"
      },
      "source": [
        "Creating age groups - Grouping creates categories of ages for better clustering"
      ]
    },
    {
      "cell_type": "code",
      "execution_count": 13,
      "metadata": {
        "id": "HvPCVsieGr0K",
        "outputId": "3f404c1c-55c0-46e4-805b-f3a0647b31c4",
        "colab": {
          "base_uri": "https://localhost:8080/",
          "height": 339
        }
      },
      "outputs": [
        {
          "output_type": "execute_result",
          "data": {
            "text/plain": [
              "<BarContainer object of 9 artists>"
            ]
          },
          "metadata": {},
          "execution_count": 13
        },
        {
          "output_type": "display_data",
          "data": {
            "image/png": "[encoded data removed]",
            "text/plain": [
              "<Figure size 1080x360 with 1 Axes>"
            ]
          },
          "metadata": {
            "needs_background": "light"
          }
        }
      ],
      "source": [
        "bins = [0, 30, 40, 50, 60, 70, 80, 90, 100, 120]\n",
        "labels = ['<30', '30-39', '40-49', '50-59', '60-69', '70-79', '80-89', '90-99', '100>']\n",
        "patient_df['AgeRange'] = pd.cut(patient_df.Age, bins, labels = labels,include_lowest = True)\n",
        "\n",
        "plt.figure(figsize=(15,5))\n",
        "patient_grouped_df = patient_df.groupby('AgeRange')['PatientID'].nunique().reset_index()\n",
        "plt.bar(patient_grouped_df[\"AgeRange\"],patient_grouped_df[\"PatientID\"])"
      ]
    },
    {
      "cell_type": "markdown",
      "metadata": {
        "id": "66kClNNYGr0K"
      },
      "source": [
        "### Admission Data Distribution"
      ]
    },
    {
      "cell_type": "code",
      "execution_count": 14,
      "metadata": {
        "id": "QWTsXFH0Gr0L",
        "outputId": "9fc2ddd7-8137-4b9f-e473-521cd8dfad72",
        "colab": {
          "base_uri": "https://localhost:8080/",
          "height": 433
        }
      },
      "outputs": [
        {
          "output_type": "stream",
          "name": "stderr",
          "text": [
            "/usr/local/lib/python3.7/dist-packages/numpy/core/_asarray.py:83: VisibleDeprecationWarning: Creating an ndarray from ragged nested sequences (which is a list-or-tuple of lists-or-tuples-or ndarrays with different lengths or shapes) is deprecated. If you meant to do this, you must specify 'dtype=object' when creating the ndarray\n",
            "  return array(a, dtype, copy=False, order=order)\n"
          ]
        },
        {
          "output_type": "execute_result",
          "data": {
            "text/plain": [
              "<matplotlib.axes._subplots.AxesSubplot at 0x7f1b876a1890>"
            ]
          },
          "metadata": {},
          "execution_count": 14
        },
        {
          "output_type": "display_data",
          "data": {
            "image/png": "[encoded data removed]",
            "text/plain": [
              "<Figure size 1080x360 with 2 Axes>"
            ]
          },
          "metadata": {
            "needs_background": "light"
          }
        }
      ],
      "source": [
        "f, ((ax1, ax2)) = plt.subplots(1, 2, figsize=(15,5))\n",
        "admission_grouped_df = admissions_df.groupby('AdmissionID')['PatientID'].nunique().reset_index()\n",
        "ax1.bar(admission_grouped_df[\"AdmissionID\"],admission_grouped_df[\"PatientID\"])\n",
        "admissions_df.boxplot(column=['num_hours'], by='AdmissionID', ax=ax2)"
      ]
    },
    {
      "cell_type": "markdown",
      "metadata": {
        "id": "Rit4M1SLGr0M"
      },
      "source": [
        "The bar chart shows the earlier visits to have more patients. The boxplot shows the visit number which takes up most of the time."
      ]
    },
    {
      "cell_type": "markdown",
      "metadata": {
        "id": "YKGcArs2Gr0M"
      },
      "source": [
        "### Diagnosis Data Distribution"
      ]
    },
    {
      "cell_type": "code",
      "execution_count": 15,
      "metadata": {
        "id": "csL3lLX0Gr0M",
        "outputId": "51b4b220-9428-464b-fce9-8c5e3ccecfcc",
        "colab": {
          "base_uri": "https://localhost:8080/",
          "height": 206
        }
      },
      "outputs": [
        {
          "output_type": "execute_result",
          "data": {
            "text/html": [
              "<div>\n",
              "<style scoped>\n",
              "    .dataframe tbody tr th:only-of-type {\n",
              "        vertical-align: middle;\n",
              "    }\n",
              "\n",
              "    .dataframe tbody tr th {\n",
              "        vertical-align: top;\n",
              "    }\n",
              "\n",
              "    .dataframe thead th {\n",
              "        text-align: right;\n",
              "    }\n",
              "</style>\n",
              "<table border=\"1\" class=\"dataframe\">\n",
              "  <thead>\n",
              "    <tr style=\"text-align: right;\">\n",
              "      <th></th>\n",
              "      <th>PrimaryDiagnosisCode</th>\n",
              "      <th>PatientID</th>\n",
              "    </tr>\n",
              "  </thead>\n",
              "  <tbody>\n",
              "    <tr>\n",
              "      <th>0</th>\n",
              "      <td>A42.0</td>\n",
              "      <td>1</td>\n",
              "    </tr>\n",
              "    <tr>\n",
              "      <th>1</th>\n",
              "      <td>A48.2</td>\n",
              "      <td>1</td>\n",
              "    </tr>\n",
              "    <tr>\n",
              "      <th>2</th>\n",
              "      <td>A52.0</td>\n",
              "      <td>1</td>\n",
              "    </tr>\n",
              "    <tr>\n",
              "      <th>3</th>\n",
              "      <td>A83.6</td>\n",
              "      <td>1</td>\n",
              "    </tr>\n",
              "    <tr>\n",
              "      <th>4</th>\n",
              "      <td>A98.3</td>\n",
              "      <td>1</td>\n",
              "    </tr>\n",
              "  </tbody>\n",
              "</table>\n",
              "</div>"
            ],
            "text/plain": [
              "  PrimaryDiagnosisCode  PatientID\n",
              "0                A42.0          1\n",
              "1                A48.2          1\n",
              "2                A52.0          1\n",
              "3                A83.6          1\n",
              "4                A98.3          1"
            ]
          },
          "metadata": {},
          "execution_count": 15
        }
      ],
      "source": [
        "diagnoses_grouped_df = diagnoses_df.groupby('PrimaryDiagnosisCode')['PatientID'].nunique().reset_index()\n",
        "diagnoses_grouped_df.head()"
      ]
    },
    {
      "cell_type": "markdown",
      "metadata": {
        "id": "eYQypixTGr0N"
      },
      "source": [
        "Dividing the PrimaryDiagnosisCode into multiple columns to be able to create better clusters"
      ]
    },
    {
      "cell_type": "code",
      "execution_count": 16,
      "metadata": {
        "id": "5kweVUxSGr0N",
        "outputId": "2f5b7fba-04f6-4242-ae28-16ca1d31a7a3",
        "colab": {
          "base_uri": "https://localhost:8080/",
          "height": 206
        }
      },
      "outputs": [
        {
          "output_type": "execute_result",
          "data": {
            "text/html": [
              "<div>\n",
              "<style scoped>\n",
              "    .dataframe tbody tr th:only-of-type {\n",
              "        vertical-align: middle;\n",
              "    }\n",
              "\n",
              "    .dataframe tbody tr th {\n",
              "        vertical-align: top;\n",
              "    }\n",
              "\n",
              "    .dataframe thead th {\n",
              "        text-align: right;\n",
              "    }\n",
              "</style>\n",
              "<table border=\"1\" class=\"dataframe\">\n",
              "  <thead>\n",
              "    <tr style=\"text-align: right;\">\n",
              "      <th></th>\n",
              "      <th>PatientID</th>\n",
              "      <th>AdmissionID</th>\n",
              "      <th>PrimaryDiagnosisCode</th>\n",
              "      <th>PrimaryDiagnosisDescription</th>\n",
              "      <th>OverallDiagnosisCode</th>\n",
              "      <th>DiagnosisCode1</th>\n",
              "      <th>DiagnosisCode2</th>\n",
              "    </tr>\n",
              "  </thead>\n",
              "  <tbody>\n",
              "    <tr>\n",
              "      <th>0</th>\n",
              "      <td>80AC01B2-BD55-4BE0-A59A-4024104CF4E9</td>\n",
              "      <td>2</td>\n",
              "      <td>M01.X</td>\n",
              "      <td>Direct infection of joint in infectious and pa...</td>\n",
              "      <td>M</td>\n",
              "      <td>M01</td>\n",
              "      <td>X</td>\n",
              "    </tr>\n",
              "    <tr>\n",
              "      <th>1</th>\n",
              "      <td>80AC01B2-BD55-4BE0-A59A-4024104CF4E9</td>\n",
              "      <td>3</td>\n",
              "      <td>D65</td>\n",
              "      <td>Disseminated intravascular coagulation [defibr...</td>\n",
              "      <td>D</td>\n",
              "      <td>D65</td>\n",
              "      <td></td>\n",
              "    </tr>\n",
              "    <tr>\n",
              "      <th>2</th>\n",
              "      <td>80AC01B2-BD55-4BE0-A59A-4024104CF4E9</td>\n",
              "      <td>4</td>\n",
              "      <td>C92.1</td>\n",
              "      <td>Chronic myeloid leukemia, BCR/ABL-positive</td>\n",
              "      <td>C</td>\n",
              "      <td>C92</td>\n",
              "      <td>1</td>\n",
              "    </tr>\n",
              "    <tr>\n",
              "      <th>3</th>\n",
              "      <td>80AC01B2-BD55-4BE0-A59A-4024104CF4E9</td>\n",
              "      <td>5</td>\n",
              "      <td>M05.51</td>\n",
              "      <td>Rheumatoid polyneuropathy with rheumatoid arth...</td>\n",
              "      <td>M</td>\n",
              "      <td>M05</td>\n",
              "      <td>51</td>\n",
              "    </tr>\n",
              "    <tr>\n",
              "      <th>4</th>\n",
              "      <td>6A57AC0C-57F3-4C19-98A1-51135EFBC4FF</td>\n",
              "      <td>1</td>\n",
              "      <td>C91.00</td>\n",
              "      <td>Acute lymphoblastic leukemia not having achiev...</td>\n",
              "      <td>C</td>\n",
              "      <td>C91</td>\n",
              "      <td>00</td>\n",
              "    </tr>\n",
              "  </tbody>\n",
              "</table>\n",
              "</div>"
            ],
            "text/plain": [
              "                              PatientID  ...  DiagnosisCode2\n",
              "0  80AC01B2-BD55-4BE0-A59A-4024104CF4E9  ...               X\n",
              "1  80AC01B2-BD55-4BE0-A59A-4024104CF4E9  ...                \n",
              "2  80AC01B2-BD55-4BE0-A59A-4024104CF4E9  ...               1\n",
              "3  80AC01B2-BD55-4BE0-A59A-4024104CF4E9  ...              51\n",
              "4  6A57AC0C-57F3-4C19-98A1-51135EFBC4FF  ...              00\n",
              "\n",
              "[5 rows x 7 columns]"
            ]
          },
          "metadata": {},
          "execution_count": 16
        }
      ],
      "source": [
        "diagnoses_df[\"OverallDiagnosisCode\"] = diagnoses_df[\"PrimaryDiagnosisCode\"].str[0]\n",
        "\n",
        "diagnoses_df[\"DiagnosisCode1\"] = diagnoses_df[\"PrimaryDiagnosisCode\"].str.split(\".\")\n",
        "diagnoses_df[\"DiagnosisCode1\"] = diagnoses_df[\"DiagnosisCode1\"].apply(lambda x: x[0])\n",
        "\n",
        "diagnoses_df[\"DiagnosisCode2\"] = diagnoses_df[\"PrimaryDiagnosisCode\"].str.split(\".\")\n",
        "diagnoses_df[\"DiagnosisCode2\"] = diagnoses_df[\"DiagnosisCode2\"].apply(lambda x: \"\" if len(x) < 2 else x[1])\n",
        "\n",
        "diagnoses_df.head()"
      ]
    },
    {
      "cell_type": "markdown",
      "metadata": {
        "id": "QtuzjqtUGr0O"
      },
      "source": [
        "Understanding the common OverallDiagnosisCode among different patients"
      ]
    },
    {
      "cell_type": "code",
      "execution_count": 17,
      "metadata": {
        "id": "BcQmcMtvGr0O",
        "outputId": "66aa600d-7f06-4e6f-e973-65a152f8f7c5",
        "colab": {
          "base_uri": "https://localhost:8080/",
          "height": 295
        }
      },
      "outputs": [
        {
          "output_type": "execute_result",
          "data": {
            "text/plain": [
              "<matplotlib.axes._subplots.AxesSubplot at 0x7f1b87639e90>"
            ]
          },
          "metadata": {},
          "execution_count": 17
        },
        {
          "output_type": "display_data",
          "data": {
            "image/png": "[encoded data removed]",
            "text/plain": [
              "<Figure size 432x288 with 1 Axes>"
            ]
          },
          "metadata": {
            "needs_background": "light"
          }
        }
      ],
      "source": [
        "diagnoses_grouped_df = diagnoses_df.groupby('OverallDiagnosisCode')['PatientID'].nunique().reset_index()\n",
        "diagnoses_grouped_df.plot.bar(x=\"OverallDiagnosisCode\" , y=\"PatientID\")"
      ]
    },
    {
      "cell_type": "code",
      "execution_count": 18,
      "metadata": {
        "id": "5H371HIYGr0O",
        "outputId": "b2c8421e-0166-46cd-982e-d19eb8e45cdd",
        "colab": {
          "base_uri": "https://localhost:8080/",
          "height": 520
        }
      },
      "outputs": [
        {
          "output_type": "execute_result",
          "data": {
            "text/html": [
              "<div>\n",
              "<style scoped>\n",
              "    .dataframe tbody tr th:only-of-type {\n",
              "        vertical-align: middle;\n",
              "    }\n",
              "\n",
              "    .dataframe tbody tr th {\n",
              "        vertical-align: top;\n",
              "    }\n",
              "\n",
              "    .dataframe thead th {\n",
              "        text-align: right;\n",
              "    }\n",
              "</style>\n",
              "<table border=\"1\" class=\"dataframe\">\n",
              "  <thead>\n",
              "    <tr style=\"text-align: right;\">\n",
              "      <th></th>\n",
              "      <th>PatientID</th>\n",
              "      <th>AdmissionID</th>\n",
              "      <th>PrimaryDiagnosisCode</th>\n",
              "      <th>PrimaryDiagnosisDescription</th>\n",
              "      <th>OverallDiagnosisCode</th>\n",
              "      <th>DiagnosisCode1</th>\n",
              "      <th>DiagnosisCode2</th>\n",
              "    </tr>\n",
              "  </thead>\n",
              "  <tbody>\n",
              "    <tr>\n",
              "      <th>38</th>\n",
              "      <td>9C75DF1F-9DA6-4C98-8F5B-E10BDC805ED0</td>\n",
              "      <td>1</td>\n",
              "      <td>Z13.810</td>\n",
              "      <td>Encounter for screening for upper gastrointest...</td>\n",
              "      <td>Z</td>\n",
              "      <td>Z13</td>\n",
              "      <td>810</td>\n",
              "    </tr>\n",
              "    <tr>\n",
              "      <th>40</th>\n",
              "      <td>A19A0B00-4C9A-4206-B1FE-17E6DA3CEB0B</td>\n",
              "      <td>1</td>\n",
              "      <td>Z13.83</td>\n",
              "      <td>Encounter for screening for respiratory disord...</td>\n",
              "      <td>Z</td>\n",
              "      <td>Z13</td>\n",
              "      <td>83</td>\n",
              "    </tr>\n",
              "    <tr>\n",
              "      <th>54</th>\n",
              "      <td>FA157FA5-F488-4884-BF87-E144630D595C</td>\n",
              "      <td>5</td>\n",
              "      <td>Z13.85</td>\n",
              "      <td>Encounter for screening for nervous system dis...</td>\n",
              "      <td>Z</td>\n",
              "      <td>Z13</td>\n",
              "      <td>85</td>\n",
              "    </tr>\n",
              "    <tr>\n",
              "      <th>64</th>\n",
              "      <td>DA6CECFF-DE13-4C4C-919F-64E1A2B76C9D</td>\n",
              "      <td>4</td>\n",
              "      <td>Z22.31</td>\n",
              "      <td>Carrier of bacterial disease due to meningococci</td>\n",
              "      <td>Z</td>\n",
              "      <td>Z22</td>\n",
              "      <td>31</td>\n",
              "    </tr>\n",
              "    <tr>\n",
              "      <th>88</th>\n",
              "      <td>25B786AF-0F99-478C-9CFA-0EA607E45834</td>\n",
              "      <td>6</td>\n",
              "      <td>Z22.31</td>\n",
              "      <td>Carrier of bacterial disease due to meningococci</td>\n",
              "      <td>Z</td>\n",
              "      <td>Z22</td>\n",
              "      <td>31</td>\n",
              "    </tr>\n",
              "    <tr>\n",
              "      <th>135</th>\n",
              "      <td>69B5D2A0-12FD-46EF-A5FF-B29C4BAFBE49</td>\n",
              "      <td>1</td>\n",
              "      <td>Z91.15</td>\n",
              "      <td>Patient's noncompliance with renal dialysis</td>\n",
              "      <td>Z</td>\n",
              "      <td>Z91</td>\n",
              "      <td>15</td>\n",
              "    </tr>\n",
              "    <tr>\n",
              "      <th>141</th>\n",
              "      <td>8D389A8C-A6D8-4447-9DDE-1A28AB4EC667</td>\n",
              "      <td>2</td>\n",
              "      <td>Z13.22</td>\n",
              "      <td>Encounter for screening for metabolic disorder</td>\n",
              "      <td>Z</td>\n",
              "      <td>Z13</td>\n",
              "      <td>22</td>\n",
              "    </tr>\n",
              "    <tr>\n",
              "      <th>157</th>\n",
              "      <td>49DADA25-F2C2-42BB-8210-D78E6C7B0D48</td>\n",
              "      <td>1</td>\n",
              "      <td>Z12</td>\n",
              "      <td>Encounter for screening for malignant neoplasms</td>\n",
              "      <td>Z</td>\n",
              "      <td>Z12</td>\n",
              "      <td></td>\n",
              "    </tr>\n",
              "    <tr>\n",
              "      <th>218</th>\n",
              "      <td>9E18822E-7D13-45C7-B50E-F95CFF92BC3E</td>\n",
              "      <td>1</td>\n",
              "      <td>Z13.0</td>\n",
              "      <td>Encounter for screening for diseases of the bl...</td>\n",
              "      <td>Z</td>\n",
              "      <td>Z13</td>\n",
              "      <td>0</td>\n",
              "    </tr>\n",
              "    <tr>\n",
              "      <th>229</th>\n",
              "      <td>98F593D2-8894-49BB-93B9-5A0E2CF85E2E</td>\n",
              "      <td>1</td>\n",
              "      <td>Z12.2</td>\n",
              "      <td>Encounter for screening for malignant neoplasm...</td>\n",
              "      <td>Z</td>\n",
              "      <td>Z12</td>\n",
              "      <td>2</td>\n",
              "    </tr>\n",
              "    <tr>\n",
              "      <th>272</th>\n",
              "      <td>6623F5D6-D581-4268-9F9B-21612FBBF7B5</td>\n",
              "      <td>3</td>\n",
              "      <td>Z12.71</td>\n",
              "      <td>Encounter for screening for malignant neoplasm...</td>\n",
              "      <td>Z</td>\n",
              "      <td>Z12</td>\n",
              "      <td>71</td>\n",
              "    </tr>\n",
              "    <tr>\n",
              "      <th>298</th>\n",
              "      <td>C8556CC0-32FC-4CA5-A8CD-9CCF38816167</td>\n",
              "      <td>1</td>\n",
              "      <td>Z12.13</td>\n",
              "      <td>Encounter for screening for malignant neoplasm...</td>\n",
              "      <td>Z</td>\n",
              "      <td>Z12</td>\n",
              "      <td>13</td>\n",
              "    </tr>\n",
              "    <tr>\n",
              "      <th>299</th>\n",
              "      <td>C8556CC0-32FC-4CA5-A8CD-9CCF38816167</td>\n",
              "      <td>2</td>\n",
              "      <td>Z95.810</td>\n",
              "      <td>Presence of automatic (implantable) cardiac de...</td>\n",
              "      <td>Z</td>\n",
              "      <td>Z95</td>\n",
              "      <td>810</td>\n",
              "    </tr>\n",
              "    <tr>\n",
              "      <th>332</th>\n",
              "      <td>3231F930-2978-4F50-8234-755449851E7B</td>\n",
              "      <td>2</td>\n",
              "      <td>Z49</td>\n",
              "      <td>Encounter for care involving renal dialysis</td>\n",
              "      <td>Z</td>\n",
              "      <td>Z49</td>\n",
              "      <td></td>\n",
              "    </tr>\n",
              "    <tr>\n",
              "      <th>364</th>\n",
              "      <td>4C201C71-CCED-40D1-9642-F9C8C485B854</td>\n",
              "      <td>6</td>\n",
              "      <td>Z22.31</td>\n",
              "      <td>Carrier of bacterial disease due to meningococci</td>\n",
              "      <td>Z</td>\n",
              "      <td>Z22</td>\n",
              "      <td>31</td>\n",
              "    </tr>\n",
              "  </tbody>\n",
              "</table>\n",
              "</div>"
            ],
            "text/plain": [
              "                                PatientID  ...  DiagnosisCode2\n",
              "38   9C75DF1F-9DA6-4C98-8F5B-E10BDC805ED0  ...             810\n",
              "40   A19A0B00-4C9A-4206-B1FE-17E6DA3CEB0B  ...              83\n",
              "54   FA157FA5-F488-4884-BF87-E144630D595C  ...              85\n",
              "64   DA6CECFF-DE13-4C4C-919F-64E1A2B76C9D  ...              31\n",
              "88   25B786AF-0F99-478C-9CFA-0EA607E45834  ...              31\n",
              "135  69B5D2A0-12FD-46EF-A5FF-B29C4BAFBE49  ...              15\n",
              "141  8D389A8C-A6D8-4447-9DDE-1A28AB4EC667  ...              22\n",
              "157  49DADA25-F2C2-42BB-8210-D78E6C7B0D48  ...                \n",
              "218  9E18822E-7D13-45C7-B50E-F95CFF92BC3E  ...               0\n",
              "229  98F593D2-8894-49BB-93B9-5A0E2CF85E2E  ...               2\n",
              "272  6623F5D6-D581-4268-9F9B-21612FBBF7B5  ...              71\n",
              "298  C8556CC0-32FC-4CA5-A8CD-9CCF38816167  ...              13\n",
              "299  C8556CC0-32FC-4CA5-A8CD-9CCF38816167  ...             810\n",
              "332  3231F930-2978-4F50-8234-755449851E7B  ...                \n",
              "364  4C201C71-CCED-40D1-9642-F9C8C485B854  ...              31\n",
              "\n",
              "[15 rows x 7 columns]"
            ]
          },
          "metadata": {},
          "execution_count": 18
        }
      ],
      "source": [
        "diagnoses_df[diagnoses_df[\"OverallDiagnosisCode\"] == \"Z\"].head(15)"
      ]
    },
    {
      "cell_type": "markdown",
      "metadata": {
        "id": "4ARIN6s5Gr0P"
      },
      "source": [
        "The splitting of PrimaryDiagnosis to different columns makes sense when looking at the data above.\n",
        "For example the rows 2, 3 & 7 show how the descriptions vary with the specific detail when you compare the codes"
      ]
    },
    {
      "cell_type": "markdown",
      "metadata": {
        "id": "H_yw5yyqGr0P"
      },
      "source": [
        "## Data Preparation"
      ]
    },
    {
      "cell_type": "markdown",
      "metadata": {
        "id": "ouRQKt55Gr0Q"
      },
      "source": [
        "Combining the datasets into one dataframe"
      ]
    },
    {
      "cell_type": "code",
      "execution_count": 44,
      "metadata": {
        "id": "HUmbRpo2Gr0Q",
        "outputId": "9996669a-d6ea-420a-d63f-66198dfae067",
        "colab": {
          "base_uri": "https://localhost:8080/",
          "height": 206
        }
      },
      "outputs": [
        {
          "output_type": "execute_result",
          "data": {
            "text/html": [
              "<div>\n",
              "<style scoped>\n",
              "    .dataframe tbody tr th:only-of-type {\n",
              "        vertical-align: middle;\n",
              "    }\n",
              "\n",
              "    .dataframe tbody tr th {\n",
              "        vertical-align: top;\n",
              "    }\n",
              "\n",
              "    .dataframe thead th {\n",
              "        text-align: right;\n",
              "    }\n",
              "</style>\n",
              "<table border=\"1\" class=\"dataframe\">\n",
              "  <thead>\n",
              "    <tr style=\"text-align: right;\">\n",
              "      <th></th>\n",
              "      <th>PatientID</th>\n",
              "      <th>AdmissionID</th>\n",
              "      <th>num_hours</th>\n",
              "      <th>OverallDiagnosisCode</th>\n",
              "      <th>DiagnosisCode1</th>\n",
              "      <th>DiagnosisCode2</th>\n",
              "      <th>PatientGender</th>\n",
              "      <th>PatientRace</th>\n",
              "      <th>PatientMaritalStatus</th>\n",
              "      <th>PatientLanguage</th>\n",
              "      <th>AgeRange</th>\n",
              "    </tr>\n",
              "  </thead>\n",
              "  <tbody>\n",
              "    <tr>\n",
              "      <th>0</th>\n",
              "      <td>7A025E77-7832-4F53-B9A7-09A3F98AC17E</td>\n",
              "      <td>7</td>\n",
              "      <td>226.0</td>\n",
              "      <td>F</td>\n",
              "      <td>F06</td>\n",
              "      <td>3</td>\n",
              "      <td>Female</td>\n",
              "      <td>Asian</td>\n",
              "      <td>Single</td>\n",
              "      <td>English</td>\n",
              "      <td>60-69</td>\n",
              "    </tr>\n",
              "    <tr>\n",
              "      <th>1</th>\n",
              "      <td>DCE5AEB8-6DB9-4106-8AE4-02CCC5C23741</td>\n",
              "      <td>1</td>\n",
              "      <td>310.0</td>\n",
              "      <td>K</td>\n",
              "      <td>K91</td>\n",
              "      <td></td>\n",
              "      <td>Female</td>\n",
              "      <td>White</td>\n",
              "      <td>Single</td>\n",
              "      <td>Unknown</td>\n",
              "      <td>50-59</td>\n",
              "    </tr>\n",
              "    <tr>\n",
              "      <th>2</th>\n",
              "      <td>DCE5AEB8-6DB9-4106-8AE4-02CCC5C23741</td>\n",
              "      <td>2</td>\n",
              "      <td>144.0</td>\n",
              "      <td>F</td>\n",
              "      <td>F40</td>\n",
              "      <td>01</td>\n",
              "      <td>Female</td>\n",
              "      <td>White</td>\n",
              "      <td>Single</td>\n",
              "      <td>Unknown</td>\n",
              "      <td>50-59</td>\n",
              "    </tr>\n",
              "    <tr>\n",
              "      <th>3</th>\n",
              "      <td>DCE5AEB8-6DB9-4106-8AE4-02CCC5C23741</td>\n",
              "      <td>3</td>\n",
              "      <td>130.0</td>\n",
              "      <td>C</td>\n",
              "      <td>C40</td>\n",
              "      <td>11</td>\n",
              "      <td>Female</td>\n",
              "      <td>White</td>\n",
              "      <td>Single</td>\n",
              "      <td>Unknown</td>\n",
              "      <td>50-59</td>\n",
              "    </tr>\n",
              "    <tr>\n",
              "      <th>4</th>\n",
              "      <td>886B5885-1EE2-49F3-98D5-A2F02EB8A9D4</td>\n",
              "      <td>1</td>\n",
              "      <td>406.0</td>\n",
              "      <td>M</td>\n",
              "      <td>M05</td>\n",
              "      <td>752</td>\n",
              "      <td>Female</td>\n",
              "      <td>Unknown</td>\n",
              "      <td>Married</td>\n",
              "      <td>English</td>\n",
              "      <td>40-49</td>\n",
              "    </tr>\n",
              "  </tbody>\n",
              "</table>\n",
              "</div>"
            ],
            "text/plain": [
              "                              PatientID  AdmissionID  ...  PatientLanguage AgeRange\n",
              "0  7A025E77-7832-4F53-B9A7-09A3F98AC17E            7  ...          English    60-69\n",
              "1  DCE5AEB8-6DB9-4106-8AE4-02CCC5C23741            1  ...          Unknown    50-59\n",
              "2  DCE5AEB8-6DB9-4106-8AE4-02CCC5C23741            2  ...          Unknown    50-59\n",
              "3  DCE5AEB8-6DB9-4106-8AE4-02CCC5C23741            3  ...          Unknown    50-59\n",
              "4  886B5885-1EE2-49F3-98D5-A2F02EB8A9D4            1  ...          English    40-49\n",
              "\n",
              "[5 rows x 11 columns]"
            ]
          },
          "metadata": {},
          "execution_count": 44
        }
      ],
      "source": [
        "admitted_diagnoses_df = pd.merge(admissions_df,diagnoses_df,on=['PatientID','AdmissionID'], how='left')\n",
        "admitted_diagnoses_df.drop(columns=[\"AdmissionStartDate\", \"AdmissionEndDate\", \"PrimaryDiagnosisCode\", \"PrimaryDiagnosisDescription\"], inplace=True)\n",
        "admit_patient_diag_df = pd.merge(admitted_diagnoses_df,patient_df,on=['PatientID'], how='left')\n",
        "admit_patient_diag_df.drop(columns=[\"PatientDateOfBirth\", \"PatientPopulationPercentageBelowPoverty\", \"Age\"], inplace=True)\n",
        "# admit_patient_lab_diag_df = pd.merge(admit_patient_diag_df, labs_df, on=['PatientID', 'AdmissionID'], how='left')\n",
        "# admit_patient_lab_diag_df.drop(columns=[\"PatientID\", \"LabUnits\", \"LabDateTime\"], inplace=True)\n",
        "admit_patient_diag_df.head()"
      ]
    },
    {
      "cell_type": "code",
      "execution_count": 20,
      "metadata": {
        "scrolled": true,
        "id": "2Qtp6KbnGr0Q",
        "outputId": "bf0bf75e-5f76-47b3-f731-e53de4c7fa96",
        "colab": {
          "base_uri": "https://localhost:8080/"
        }
      },
      "outputs": [
        {
          "output_type": "execute_result",
          "data": {
            "text/plain": [
              "(372, 11)"
            ]
          },
          "metadata": {},
          "execution_count": 20
        }
      ],
      "source": [
        "admit_patient_diag_df.shape"
      ]
    },
    {
      "cell_type": "code",
      "execution_count": 21,
      "metadata": {
        "id": "DGn_7Ca7Gr0R",
        "outputId": "9de9ffb9-2e4f-4c50-86f3-b0b2860e7a09",
        "colab": {
          "base_uri": "https://localhost:8080/"
        }
      },
      "outputs": [
        {
          "output_type": "execute_result",
          "data": {
            "text/plain": [
              "PatientID                 object\n",
              "AdmissionID                int64\n",
              "num_hours                float64\n",
              "OverallDiagnosisCode      object\n",
              "DiagnosisCode1            object\n",
              "DiagnosisCode2            object\n",
              "PatientGender             object\n",
              "PatientRace               object\n",
              "PatientMaritalStatus      object\n",
              "PatientLanguage           object\n",
              "AgeRange                category\n",
              "dtype: object"
            ]
          },
          "metadata": {},
          "execution_count": 21
        }
      ],
      "source": [
        "admit_patient_diag_df.dtypes"
      ]
    },
    {
      "cell_type": "markdown",
      "metadata": {
        "id": "5uBfF8aQGr0R"
      },
      "source": [
        "Converting the string values into categories and later into integers with integer encoding "
      ]
    },
    {
      "cell_type": "code",
      "execution_count": 22,
      "metadata": {
        "id": "A4MLFRFFGr0S"
      },
      "outputs": [],
      "source": [
        "admit_patient_diag_df[\"OverallDiagnosisCode\"] = admit_patient_diag_df[\"OverallDiagnosisCode\"].astype('category')\n",
        "admit_patient_diag_df[\"DiagnosisCode1\"] = admit_patient_diag_df[\"DiagnosisCode1\"].astype('category')\n",
        "admit_patient_diag_df[\"DiagnosisCode2\"] = admit_patient_diag_df[\"DiagnosisCode2\"].astype('category')\n",
        "admit_patient_diag_df[\"PatientGender\"] = admit_patient_diag_df[\"PatientGender\"].astype('category')\n",
        "admit_patient_diag_df[\"PatientRace\"] = admit_patient_diag_df[\"PatientRace\"].astype('category')\n",
        "admit_patient_diag_df[\"PatientMaritalStatus\"] = admit_patient_diag_df[\"PatientMaritalStatus\"].astype('category')\n",
        "admit_patient_diag_df[\"PatientLanguage\"] = admit_patient_diag_df[\"PatientLanguage\"].astype('category')"
      ]
    },
    {
      "cell_type": "code",
      "source": [
        "overall_diag_code_dict = dict(enumerate(admit_patient_diag_df[\"OverallDiagnosisCode\"].cat.categories))\n",
        "diag_code_1_dict = dict(enumerate(admit_patient_diag_df[\"DiagnosisCode1\"].cat.categories))\n",
        "diag_code_2_dict = dict(enumerate(admit_patient_diag_df[\"DiagnosisCode2\"].cat.categories))\n",
        "gender_dict = dict(enumerate(admit_patient_diag_df[\"PatientGender\"].cat.categories))\n",
        "race_dict = dict(enumerate(admit_patient_diag_df[\"PatientRace\"].cat.categories))\n",
        "marital_status_dict = dict(enumerate(admit_patient_diag_df[\"PatientMaritalStatus\"].cat.categories))\n",
        "lang_dict = dict(enumerate(admit_patient_diag_df[\"PatientLanguage\"].cat.categories))\n",
        "age_dict = dict(enumerate(admit_patient_diag_df[\"AgeRange\"].cat.categories))\n",
        "\n",
        "category_dict = {\"overall_diag_code_dict\":overall_diag_code_dict, \"diag_code_1_dict\":diag_code_1_dict, \"diag_code_2_dict\":diag_code_1_dict, \"gender_dict\": gender_dict, \"race_dict\":race_dict, \"marital_status_dict\":marital_status_dict, \"lang_dict\":lang_dict, \"age_dict\":age_dict}\n",
        "categories_file = open(\"categories_data.json\", \"w\")\n",
        "categories_file = json.dump(category_dict, categories_file)"
      ],
      "metadata": {
        "id": "tAWL0iv1W5xK"
      },
      "execution_count": null,
      "outputs": []
    },
    {
      "cell_type": "code",
      "execution_count": 23,
      "metadata": {
        "id": "xdSyd9QJGr0S"
      },
      "outputs": [],
      "source": [
        "admit_patient_diag_df[\"OverallDiagnosisCode_cat\"] = admit_patient_diag_df[\"OverallDiagnosisCode\"].cat.codes\n",
        "admit_patient_diag_df[\"DiagnosisCode1_cat\"] = admit_patient_diag_df[\"DiagnosisCode1\"].cat.codes\n",
        "admit_patient_diag_df[\"DiagnosisCode2_cat\"] = admit_patient_diag_df[\"DiagnosisCode2\"].cat.codes\n",
        "admit_patient_diag_df[\"PatientGender_cat\"] = admit_patient_diag_df[\"PatientGender\"].cat.codes\n",
        "admit_patient_diag_df[\"PatientRace_cat\"] = admit_patient_diag_df[\"PatientRace\"].cat.codes\n",
        "admit_patient_diag_df[\"PatientMaritalStatus_cat\"] = admit_patient_diag_df[\"PatientMaritalStatus\"].cat.codes\n",
        "admit_patient_diag_df[\"PatientLanguage_cat\"] = admit_patient_diag_df[\"PatientLanguage\"].cat.codes\n",
        "admit_patient_diag_df[\"AgeRange_cat\"] = admit_patient_diag_df[\"AgeRange\"].cat.codes"
      ]
    },
    {
      "cell_type": "markdown",
      "metadata": {
        "id": "hsD3ObcdGr0S"
      },
      "source": [
        "## Modeling"
      ]
    },
    {
      "cell_type": "markdown",
      "metadata": {
        "id": "WeBAvwHMGr0T"
      },
      "source": [
        "### Data Preprocessing"
      ]
    },
    {
      "cell_type": "code",
      "execution_count": 40,
      "metadata": {
        "id": "o52SzBa9Gr0U"
      },
      "outputs": [],
      "source": [
        "input_df = admit_patient_diag_df[['AdmissionID', 'OverallDiagnosisCode_cat', 'DiagnosisCode1_cat',\n",
        "                                      'DiagnosisCode2_cat', 'PatientGender_cat', 'PatientRace_cat',\n",
        "                                      'PatientMaritalStatus_cat', 'PatientLanguage_cat', 'AgeRange_cat']]"
      ]
    },
    {
      "cell_type": "code",
      "execution_count": 41,
      "metadata": {
        "id": "yfiATeRiGr0V",
        "outputId": "5894ead4-6c3f-4bbc-c02c-2499beb04a7b",
        "colab": {
          "base_uri": "https://localhost:8080/"
        }
      },
      "outputs": [
        {
          "output_type": "execute_result",
          "data": {
            "text/plain": [
              "(372, 9)"
            ]
          },
          "metadata": {},
          "execution_count": 41
        }
      ],
      "source": [
        "input_df.shape"
      ]
    },
    {
      "cell_type": "code",
      "execution_count": 42,
      "metadata": {
        "id": "T6SNt2FaGr0V",
        "outputId": "a52cb5f7-47ec-4449-b03c-cfebbf9223dd",
        "colab": {
          "base_uri": "https://localhost:8080/"
        }
      },
      "outputs": [
        {
          "output_type": "execute_result",
          "data": {
            "text/plain": [
              "Index(['AdmissionID', 'OverallDiagnosisCode_cat', 'DiagnosisCode1_cat',\n",
              "       'DiagnosisCode2_cat', 'PatientGender_cat', 'PatientRace_cat',\n",
              "       'PatientMaritalStatus_cat', 'PatientLanguage_cat', 'AgeRange_cat'],\n",
              "      dtype='object')"
            ]
          },
          "metadata": {},
          "execution_count": 42
        }
      ],
      "source": [
        "input_df.columns"
      ]
    },
    {
      "cell_type": "code",
      "source": [
        "input_df.head()"
      ],
      "metadata": {
        "colab": {
          "base_uri": "https://localhost:8080/",
          "height": 206
        },
        "id": "pHr55yPAcK91",
        "outputId": "cc0c2428-fa4c-442c-d488-51a187618016"
      },
      "execution_count": 43,
      "outputs": [
        {
          "output_type": "execute_result",
          "data": {
            "text/html": [
              "<div>\n",
              "<style scoped>\n",
              "    .dataframe tbody tr th:only-of-type {\n",
              "        vertical-align: middle;\n",
              "    }\n",
              "\n",
              "    .dataframe tbody tr th {\n",
              "        vertical-align: top;\n",
              "    }\n",
              "\n",
              "    .dataframe thead th {\n",
              "        text-align: right;\n",
              "    }\n",
              "</style>\n",
              "<table border=\"1\" class=\"dataframe\">\n",
              "  <thead>\n",
              "    <tr style=\"text-align: right;\">\n",
              "      <th></th>\n",
              "      <th>AdmissionID</th>\n",
              "      <th>OverallDiagnosisCode_cat</th>\n",
              "      <th>DiagnosisCode1_cat</th>\n",
              "      <th>DiagnosisCode2_cat</th>\n",
              "      <th>PatientGender_cat</th>\n",
              "      <th>PatientRace_cat</th>\n",
              "      <th>PatientMaritalStatus_cat</th>\n",
              "      <th>PatientLanguage_cat</th>\n",
              "      <th>AgeRange_cat</th>\n",
              "    </tr>\n",
              "  </thead>\n",
              "  <tbody>\n",
              "    <tr>\n",
              "      <th>0</th>\n",
              "      <td>7</td>\n",
              "      <td>5</td>\n",
              "      <td>78</td>\n",
              "      <td>48</td>\n",
              "      <td>0</td>\n",
              "      <td>1</td>\n",
              "      <td>3</td>\n",
              "      <td>0</td>\n",
              "      <td>4</td>\n",
              "    </tr>\n",
              "    <tr>\n",
              "      <th>1</th>\n",
              "      <td>1</td>\n",
              "      <td>10</td>\n",
              "      <td>133</td>\n",
              "      <td>0</td>\n",
              "      <td>0</td>\n",
              "      <td>3</td>\n",
              "      <td>3</td>\n",
              "      <td>3</td>\n",
              "      <td>3</td>\n",
              "    </tr>\n",
              "    <tr>\n",
              "      <th>2</th>\n",
              "      <td>2</td>\n",
              "      <td>5</td>\n",
              "      <td>90</td>\n",
              "      <td>3</td>\n",
              "      <td>0</td>\n",
              "      <td>3</td>\n",
              "      <td>3</td>\n",
              "      <td>3</td>\n",
              "      <td>3</td>\n",
              "    </tr>\n",
              "    <tr>\n",
              "      <th>3</th>\n",
              "      <td>3</td>\n",
              "      <td>2</td>\n",
              "      <td>27</td>\n",
              "      <td>18</td>\n",
              "      <td>0</td>\n",
              "      <td>3</td>\n",
              "      <td>3</td>\n",
              "      <td>3</td>\n",
              "      <td>3</td>\n",
              "    </tr>\n",
              "    <tr>\n",
              "      <th>4</th>\n",
              "      <td>1</td>\n",
              "      <td>11</td>\n",
              "      <td>136</td>\n",
              "      <td>111</td>\n",
              "      <td>0</td>\n",
              "      <td>2</td>\n",
              "      <td>1</td>\n",
              "      <td>0</td>\n",
              "      <td>2</td>\n",
              "    </tr>\n",
              "  </tbody>\n",
              "</table>\n",
              "</div>"
            ],
            "text/plain": [
              "   AdmissionID  OverallDiagnosisCode_cat  ...  PatientLanguage_cat  AgeRange_cat\n",
              "0            7                         5  ...                    0             4\n",
              "1            1                        10  ...                    3             3\n",
              "2            2                         5  ...                    3             3\n",
              "3            3                         2  ...                    3             3\n",
              "4            1                        11  ...                    0             2\n",
              "\n",
              "[5 rows x 9 columns]"
            ]
          },
          "metadata": {},
          "execution_count": 43
        }
      ]
    },
    {
      "cell_type": "code",
      "execution_count": 36,
      "metadata": {
        "id": "XeP45DPrGr0W"
      },
      "outputs": [],
      "source": [
        "# Converting dataframe to numpy array required for the model.\n",
        "input_numpy_arr_data = input_df.values"
      ]
    },
    {
      "cell_type": "markdown",
      "metadata": {
        "id": "TAFcffIAGr0W"
      },
      "source": [
        "### Initializing and training the model"
      ]
    },
    {
      "cell_type": "code",
      "execution_count": 37,
      "metadata": {
        "id": "pBedMmizGr0X"
      },
      "outputs": [],
      "source": [
        "# Using 6X6 neurons to learn from the data and create clusters\n",
        "som = MiniSom(6, 6, input_len = input_df.shape[1], sigma=0.5, learning_rate=0.5, random_seed=999)\n",
        "som.train_random(input_numpy_arr_data, 100)\n"
      ]
    },
    {
      "cell_type": "code",
      "source": [
        "# Saving model\n",
        "filename = 'finalized_model.pkl'\n",
        "pickle.dump(som, open(filename, 'wb'))"
      ],
      "metadata": {
        "id": "xpULwn_OLZZ-"
      },
      "execution_count": 38,
      "outputs": []
    },
    {
      "cell_type": "markdown",
      "metadata": {
        "id": "Pav42oLCGr0X"
      },
      "source": [
        "adding seed to the model to ensure the winner does not change between each run."
      ]
    },
    {
      "cell_type": "markdown",
      "metadata": {
        "id": "-1WX1O94Gr0Y"
      },
      "source": [
        "### Clustering a random data record"
      ]
    },
    {
      "cell_type": "code",
      "execution_count": 32,
      "metadata": {
        "id": "rGVHcgCFGr0Y",
        "outputId": "0bff45b5-530d-49ec-aa72-cbcabbe110c8",
        "colab": {
          "base_uri": "https://localhost:8080/"
        }
      },
      "outputs": [
        {
          "output_type": "stream",
          "name": "stdout",
          "text": [
            "[  7. 226.   5.  78.  48.   0.   1.   3.   0.   4.]\n"
          ]
        },
        {
          "output_type": "execute_result",
          "data": {
            "text/plain": [
              "(1, 2)"
            ]
          },
          "metadata": {},
          "execution_count": 32
        }
      ],
      "source": [
        "# Finding which neuron is the winner(closest) to the test data\n",
        "print(input_numpy_arr_data[0])\n",
        "som.winner(input_numpy_arr_data[0])"
      ]
    },
    {
      "cell_type": "markdown",
      "metadata": {
        "id": "uHzVfysyGr0Z"
      },
      "source": [
        "### How good is SOM performing"
      ]
    },
    {
      "cell_type": "code",
      "execution_count": null,
      "metadata": {
        "id": "qf-5qL_vGr0Z",
        "outputId": "ec97db12-813a-4312-cdb3-9697cfd5b423"
      },
      "outputs": [
        {
          "name": "stdout",
          "output_type": "stream",
          "text": [
            "Topographic product =  0.10703060612558923\n",
            "Neighborhood preservation =  -0.5464109270560884\n",
            "Trustworthiness =  0.8189957135919338\n"
          ]
        }
      ],
      "source": [
        "weights = som.get_weights().reshape(6*6, -1)\n",
        "\n",
        "# compute a few metrics\n",
        "print('Topographic product = ', topographic_product(rectangular_topology_dist((6,6)), weights))\n",
        "print('Neighborhood preservation = ', neighborhood_preservation(1, weights, input_numpy_arr_data))\n",
        "print('Trustworthiness = ', trustworthiness(1, weights, input_numpy_arr_data))"
      ]
    },
    {
      "cell_type": "markdown",
      "metadata": {
        "id": "dkwKGI2kGr0a"
      },
      "source": [
        "Manhattan distance generally works only if the points are arranged in the form of a grid and the problem which we are working on gives more priority to the distance between the points only along with the grids, but not the geometric distance.This gives us 81% trustworthiness."
      ]
    },
    {
      "cell_type": "markdown",
      "metadata": {
        "id": "V885uIkDGr0b"
      },
      "source": [
        "### DBSCAN - Density-Based Spatial Clustering of Applications with Noise"
      ]
    },
    {
      "cell_type": "markdown",
      "metadata": {
        "id": "Vpni3ZfPGr0c"
      },
      "source": [
        "Comparing our results with another model gives us a good idea on how good the data actually is. I am using the DBSCAN model that decides the number of clusters within a dataset."
      ]
    },
    {
      "cell_type": "code",
      "execution_count": null,
      "metadata": {
        "id": "YsGfOqJqGr0d",
        "outputId": "9cacdf72-0491-4f91-8c75-78866752b6ed"
      },
      "outputs": [
        {
          "data": {
            "text/plain": [
              "array([-1,  0,  1,  2,  3,  4], dtype=int64)"
            ]
          },
          "execution_count": 30,
          "metadata": {},
          "output_type": "execute_result"
        }
      ],
      "source": [
        "dbscan = DBSCAN(eps=36, min_samples=10)\n",
        "# Fitting\n",
        "dbscan.fit(input_df)\n",
        "# Transoring Using PCA\n",
        "\n",
        "clustering_labels = dbscan.fit_predict(input_df)\n",
        "np.unique(clustering_labels)"
      ]
    },
    {
      "cell_type": "code",
      "execution_count": null,
      "metadata": {
        "id": "XFIAinW8Gr0f",
        "outputId": "7d0ff274-68d6-4b03-9c79-6f2aa59a29f7"
      },
      "outputs": [
        {
          "data": {
            "text/plain": [
              "-0.019689491050924487"
            ]
          },
          "execution_count": 31,
          "metadata": {},
          "output_type": "execute_result"
        }
      ],
      "source": [
        "metrics.silhouette_score(input_df, clustering_labels)"
      ]
    },
    {
      "cell_type": "markdown",
      "metadata": {
        "id": "mK8xiqdeGr0f"
      },
      "source": [
        "Using DBSCAN has given a silhouette score of -0.019. Silhouette score close to 1 indicates that the clusters decided by DBSCAN were good enough, but anything close to zero or negative shows that the algorithm chose either less number of clusters or too many."
      ]
    },
    {
      "cell_type": "markdown",
      "metadata": {
        "id": "QTau5ZZSGr0g"
      },
      "source": [
        "This proves that our model is better in terms of assigning data points to their relavent clusters."
      ]
    },
    {
      "cell_type": "markdown",
      "metadata": {
        "id": "6gH1_b7jGr0g"
      },
      "source": [
        "#### Visualizing DBSCAN clusters:"
      ]
    },
    {
      "cell_type": "code",
      "execution_count": null,
      "metadata": {
        "id": "IYaraqFRGr0g",
        "outputId": "69a0f3f1-c4ba-4cca-ac3f-5c84675d42c7"
      },
      "outputs": [
        {
          "data": {
            "text/plain": [
              "Text(0, 0.5, 'Feature 2')"
            ]
          },
          "execution_count": 67,
          "metadata": {},
          "output_type": "execute_result"
        },
        {
          "data": {
            "image/png": "[encoded data removed]",
            "text/plain": [
              "<Figure size 432x288 with 1 Axes>"
            ]
          },
          "metadata": {
            "needs_background": "light"
          },
          "output_type": "display_data"
        }
      ],
      "source": [
        "plt.scatter(input_df.iloc[:, 1], input_df.iloc[:, 2], c=clustering_labels, cmap=\"plasma\")\n",
        "plt.xlabel(\"Feature 1\")\n",
        "plt.ylabel(\"Feature 2\")"
      ]
    },
    {
      "cell_type": "markdown",
      "metadata": {
        "id": "4NDRDh7-Gr0h"
      },
      "source": [
        "The DBSCAN cluster plot at first glance doesnt make much sense but if you look closely you will notice that the blue dots which represent error(-1) cluster falls all over the place but other nodes are fairly clustered. The reason why DBSCAN does not perform well is because the number of error/unclustered data points are high compared to the clustered ones"
      ]
    },
    {
      "cell_type": "markdown",
      "metadata": {
        "id": "O6u0q_kGGr0h"
      },
      "source": [
        "### Plotting MiniSOM clusters"
      ]
    },
    {
      "cell_type": "code",
      "execution_count": null,
      "metadata": {
        "id": "DLftCI_mGr0h",
        "outputId": "a6ba9b15-65bc-4596-8122-c9d8fa08a93b"
      },
      "outputs": [
        {
          "name": "stderr",
          "output_type": "stream",
          "text": [
            "c:\\users\\fortune\\appdata\\local\\programs\\python\\python37\\lib\\site-packages\\ipykernel_launcher.py:4: SettingWithCopyWarning: \n",
            "A value is trying to be set on a copy of a slice from a DataFrame.\n",
            "Try using .loc[row_indexer,col_indexer] = value instead\n",
            "\n",
            "See the caveats in the documentation: https://pandas.pydata.org/pandas-docs/stable/user_guide/indexing.html#returning-a-view-versus-a-copy\n",
            "  after removing the cwd from sys.path.\n"
          ]
        }
      ],
      "source": [
        "labels = []\n",
        "for i in range(input_df.shape[0]):\n",
        "    labels.append(som.winner(input_numpy_arr_data[i]))\n",
        "input_df[\"labels_som\"] = labels"
      ]
    },
    {
      "cell_type": "code",
      "execution_count": null,
      "metadata": {
        "id": "T0AO11S0Gr0h",
        "outputId": "b6d04fde-657d-42f4-99e7-7d2d0eb52685"
      },
      "outputs": [
        {
          "data": {
            "text/html": [
              "<div>\n",
              "<style scoped>\n",
              "    .dataframe tbody tr th:only-of-type {\n",
              "        vertical-align: middle;\n",
              "    }\n",
              "\n",
              "    .dataframe tbody tr th {\n",
              "        vertical-align: top;\n",
              "    }\n",
              "\n",
              "    .dataframe thead th {\n",
              "        text-align: right;\n",
              "    }\n",
              "</style>\n",
              "<table border=\"1\" class=\"dataframe\">\n",
              "  <thead>\n",
              "    <tr style=\"text-align: right;\">\n",
              "      <th></th>\n",
              "      <th>AdmissionID</th>\n",
              "      <th>num_hours</th>\n",
              "      <th>OverallDiagnosisCode_cat</th>\n",
              "      <th>DiagnosisCode1_cat</th>\n",
              "      <th>DiagnosisCode2_cat</th>\n",
              "      <th>PatientGender_cat</th>\n",
              "      <th>PatientRace_cat</th>\n",
              "      <th>PatientMaritalStatus_cat</th>\n",
              "      <th>PatientLanguage_cat</th>\n",
              "      <th>AgeRange_cat</th>\n",
              "      <th>labels_som</th>\n",
              "    </tr>\n",
              "  </thead>\n",
              "  <tbody>\n",
              "    <tr>\n",
              "      <th>0</th>\n",
              "      <td>7</td>\n",
              "      <td>226.0</td>\n",
              "      <td>5</td>\n",
              "      <td>78</td>\n",
              "      <td>48</td>\n",
              "      <td>0</td>\n",
              "      <td>1</td>\n",
              "      <td>3</td>\n",
              "      <td>0</td>\n",
              "      <td>4</td>\n",
              "      <td>(1, 2)</td>\n",
              "    </tr>\n",
              "    <tr>\n",
              "      <th>1</th>\n",
              "      <td>1</td>\n",
              "      <td>310.0</td>\n",
              "      <td>10</td>\n",
              "      <td>133</td>\n",
              "      <td>0</td>\n",
              "      <td>0</td>\n",
              "      <td>3</td>\n",
              "      <td>3</td>\n",
              "      <td>3</td>\n",
              "      <td>3</td>\n",
              "      <td>(1, 1)</td>\n",
              "    </tr>\n",
              "    <tr>\n",
              "      <th>2</th>\n",
              "      <td>2</td>\n",
              "      <td>144.0</td>\n",
              "      <td>5</td>\n",
              "      <td>90</td>\n",
              "      <td>3</td>\n",
              "      <td>0</td>\n",
              "      <td>3</td>\n",
              "      <td>3</td>\n",
              "      <td>3</td>\n",
              "      <td>3</td>\n",
              "      <td>(2, 1)</td>\n",
              "    </tr>\n",
              "    <tr>\n",
              "      <th>3</th>\n",
              "      <td>3</td>\n",
              "      <td>130.0</td>\n",
              "      <td>2</td>\n",
              "      <td>27</td>\n",
              "      <td>18</td>\n",
              "      <td>0</td>\n",
              "      <td>3</td>\n",
              "      <td>3</td>\n",
              "      <td>3</td>\n",
              "      <td>3</td>\n",
              "      <td>(0, 1)</td>\n",
              "    </tr>\n",
              "    <tr>\n",
              "      <th>4</th>\n",
              "      <td>1</td>\n",
              "      <td>406.0</td>\n",
              "      <td>11</td>\n",
              "      <td>136</td>\n",
              "      <td>111</td>\n",
              "      <td>0</td>\n",
              "      <td>2</td>\n",
              "      <td>1</td>\n",
              "      <td>0</td>\n",
              "      <td>2</td>\n",
              "      <td>(1, 1)</td>\n",
              "    </tr>\n",
              "  </tbody>\n",
              "</table>\n",
              "</div>"
            ],
            "text/plain": [
              "   AdmissionID  num_hours  OverallDiagnosisCode_cat  DiagnosisCode1_cat  \\\n",
              "0            7      226.0                         5                  78   \n",
              "1            1      310.0                        10                 133   \n",
              "2            2      144.0                         5                  90   \n",
              "3            3      130.0                         2                  27   \n",
              "4            1      406.0                        11                 136   \n",
              "\n",
              "   DiagnosisCode2_cat  PatientGender_cat  PatientRace_cat  \\\n",
              "0                  48                  0                1   \n",
              "1                   0                  0                3   \n",
              "2                   3                  0                3   \n",
              "3                  18                  0                3   \n",
              "4                 111                  0                2   \n",
              "\n",
              "   PatientMaritalStatus_cat  PatientLanguage_cat  AgeRange_cat labels_som  \n",
              "0                         3                    0             4     (1, 2)  \n",
              "1                         3                    3             3     (1, 1)  \n",
              "2                         3                    3             3     (2, 1)  \n",
              "3                         3                    3             3     (0, 1)  \n",
              "4                         1                    0             2     (1, 1)  "
            ]
          },
          "execution_count": 62,
          "metadata": {},
          "output_type": "execute_result"
        }
      ],
      "source": [
        "input_df.head()"
      ]
    },
    {
      "cell_type": "code",
      "execution_count": null,
      "metadata": {
        "id": "9DnYboSPGr0i",
        "outputId": "bf605ffc-2516-465e-dd9a-d16b7baaf274"
      },
      "outputs": [
        {
          "data": {
            "text/plain": [
              "Text(0, 0.5, 'Feature 2')"
            ]
          },
          "execution_count": 68,
          "metadata": {},
          "output_type": "execute_result"
        },
        {
          "data": {
            "image/png": "[encoded data removed]",
            "text/plain": [
              "<Figure size 432x288 with 1 Axes>"
            ]
          },
          "metadata": {
            "needs_background": "light"
          },
          "output_type": "display_data"
        }
      ],
      "source": [
        "labels_list = pd.factorize(input_df['labels_som'].tolist())[0]\n",
        "plt.scatter(input_df.iloc[:, 1], input_df.iloc[:, 2], c=labels_list, cmap=\"plasma\")\n",
        "plt.xlabel(\"Feature 1\")\n",
        "plt.ylabel(\"Feature 2\")"
      ]
    },
    {
      "cell_type": "markdown",
      "metadata": {
        "id": "Ztu0jJofGr0i"
      },
      "source": [
        "The SOM clusters are better defined compared to DBSCAN and this might be the driving factor for the model to perform well compared to DBSCAN."
      ]
    },
    {
      "cell_type": "code",
      "execution_count": null,
      "metadata": {
        "id": "6ltATEXSGr0i"
      },
      "outputs": [],
      "source": [
        ""
      ]
    }
  ],
  "metadata": {
    "kernelspec": {
      "display_name": "Python 3 (ipykernel)",
      "language": "python",
      "name": "python3"
    },
    "language_info": {
      "codemirror_mode": {
        "name": "ipython",
        "version": 3
      },
      "file_extension": ".py",
      "mimetype": "text/x-python",
      "name": "python",
      "nbconvert_exporter": "python",
      "pygments_lexer": "ipython3",
      "version": "3.10.0"
    },
    "colab": {
      "name": "medical_records_extraction.ipynb",
      "provenance": []
    }
  },
  "nbformat": 4,
  "nbformat_minor": 0
}